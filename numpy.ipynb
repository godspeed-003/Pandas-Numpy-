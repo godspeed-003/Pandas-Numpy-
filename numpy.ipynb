{
 "cells": [
  {
   "cell_type": "code",
   "execution_count": 3,
   "id": "f544d835-76f9-41e4-a9b5-1fe3b94d30dd",
   "metadata": {},
   "outputs": [],
   "source": [
    "import numpy as np"
   ]
  },
  {
   "cell_type": "code",
   "execution_count": 43,
   "id": "edf88561-1f7e-4539-bbb6-58f485c18d0a",
   "metadata": {},
   "outputs": [
    {
     "name": "stdout",
     "output_type": "stream",
     "text": [
      "int64\n",
      "(4,)\n"
     ]
    }
   ],
   "source": [
    "my_list = [10, 20, 30,40]\n",
    "\n",
    "arr = np.array(my_list)\n",
    "\n",
    "print(arr.dtype)\n",
    "print(arr.shape)\n",
    "\n",
    "arr = np.array(my_list)"
   ]
  },
  {
   "cell_type": "code",
   "execution_count": 9,
   "id": "beda7488-8626-4b65-a348-a6d7f72bb393",
   "metadata": {},
   "outputs": [
    {
     "data": {
      "text/plain": [
       "(4,)"
      ]
     },
     "execution_count": 9,
     "metadata": {},
     "output_type": "execute_result"
    }
   ],
   "source": [
    "arr.shape"
   ]
  },
  {
   "cell_type": "code",
   "execution_count": 10,
   "id": "8fdced04-ec70-4432-801d-2edd7e41e4be",
   "metadata": {},
   "outputs": [
    {
     "data": {
      "text/plain": [
       "(3, 3)"
      ]
     },
     "execution_count": 10,
     "metadata": {},
     "output_type": "execute_result"
    }
   ],
   "source": [
    "list_of_lists =  [[5, 10, 15], [20, 25, 30], [35, 40, 45]]\n",
    "twod_array = np.array(list_of_lists)\n",
    "\n",
    "twod_array.shape"
   ]
  },
  {
   "cell_type": "code",
   "execution_count": 11,
   "id": "44bcdf5a-ef84-47c2-9981-711347103590",
   "metadata": {},
   "outputs": [
    {
     "name": "stdout",
     "output_type": "stream",
     "text": [
      "int64\n",
      "(3,)\n"
     ]
    }
   ],
   "source": [
    "my_list = [10, 20, 30]\n",
    "\n",
    "arr = np.array(my_list)\n",
    "\n",
    "print(arr.dtype)\n",
    "print(arr.shape)"
   ]
  },
  {
   "cell_type": "code",
   "execution_count": 13,
   "id": "3369b55d-8ffc-4ac5-81fd-b26645cec91d",
   "metadata": {},
   "outputs": [
    {
     "data": {
      "text/plain": [
       "array([0, 1, 2, 3, 4, 5, 6, 7, 8, 9])"
      ]
     },
     "execution_count": 13,
     "metadata": {},
     "output_type": "execute_result"
    }
   ],
   "source": [
    "np.arange(0, 10, 1)"
   ]
  },
  {
   "cell_type": "code",
   "execution_count": 39,
   "id": "3e1ef1b2-5017-428f-b49d-7724c0f3ceeb",
   "metadata": {},
   "outputs": [
    {
     "data": {
      "text/plain": [
       "array([0, 2, 4, 6, 8], dtype=int32)"
      ]
     },
     "execution_count": 39,
     "metadata": {},
     "output_type": "execute_result"
    }
   ],
   "source": [
    "np.arange(0, 10, 2, dtype='int32')"
   ]
  },
  {
   "cell_type": "code",
   "execution_count": 30,
   "id": "ca13700b-9b94-4628-9f96-3147e2a5c9f2",
   "metadata": {},
   "outputs": [
    {
     "data": {
      "text/plain": [
       "array([0, 3, 6, 9], dtype=int32)"
      ]
     },
     "execution_count": 30,
     "metadata": {},
     "output_type": "execute_result"
    }
   ],
   "source": [
    "np.arange(0, 10, 3, dtype='int32', like=twod_array)"
   ]
  },
  {
   "cell_type": "code",
   "execution_count": 69,
   "id": "f9c4454d-a2f5-4e3d-9067-42c463304e52",
   "metadata": {},
   "outputs": [
    {
     "name": "stdout",
     "output_type": "stream",
     "text": [
      "['0' '1' '2' '3' '4' '5' '6' '7' '8' '9']\n"
     ]
    }
   ],
   "source": [
    "arr = np.arange(0, 10, 1)  # Create the array\n",
    "arr_str = arr.astype(str)   # Convert to string type\n",
    "print(arr_str)"
   ]
  },
  {
   "cell_type": "code",
   "execution_count": 31,
   "id": "0c28a80b-bb56-4f51-a0ba-cb620cd81a8f",
   "metadata": {},
   "outputs": [
    {
     "data": {
      "text/plain": [
       "array([[0., 0., 0.],\n",
       "       [0., 0., 0.]])"
      ]
     },
     "execution_count": 31,
     "metadata": {},
     "output_type": "execute_result"
    }
   ],
   "source": [
    "np.zeros((2, 3))"
   ]
  },
  {
   "cell_type": "code",
   "execution_count": 33,
   "id": "82ac8cd3-e6e4-4103-9811-8ce8b18096fc",
   "metadata": {},
   "outputs": [
    {
     "data": {
      "text/plain": [
       "array([[1., 1., 1.],\n",
       "       [1., 1., 1.]])"
      ]
     },
     "execution_count": 33,
     "metadata": {},
     "output_type": "execute_result"
    }
   ],
   "source": [
    "np.ones((2, 3))"
   ]
  },
  {
   "cell_type": "code",
   "execution_count": 37,
   "id": "b3d84891-1c0a-40bd-8e7c-7aee977ce6f0",
   "metadata": {},
   "outputs": [
    {
     "data": {
      "text/plain": [
       "array([ 0. ,  2.5,  5. ,  7.5, 10. ])"
      ]
     },
     "execution_count": 37,
     "metadata": {},
     "output_type": "execute_result"
    }
   ],
   "source": [
    "# divide into 5 interval from 0 to 10\n",
    "np.linspace(0, 10, 5)"
   ]
  },
  {
   "cell_type": "code",
   "execution_count": 45,
   "id": "8d4f6019-06a0-4614-a03f-3f6309f51fef",
   "metadata": {},
   "outputs": [
    {
     "data": {
      "text/plain": [
       "array([ 0. ,  2.5,  5. ,  7.5, 10. ])"
      ]
     },
     "execution_count": 45,
     "metadata": {},
     "output_type": "execute_result"
    }
   ],
   "source": [
    "np.linspace(0, 10, num=5, endpoint=True)"
   ]
  },
  {
   "cell_type": "code",
   "execution_count": 46,
   "id": "3bbe281d-fb41-4e4e-b838-9c1678052658",
   "metadata": {},
   "outputs": [
    {
     "data": {
      "text/plain": [
       "array([0., 2., 4., 6., 8.])"
      ]
     },
     "execution_count": 46,
     "metadata": {},
     "output_type": "execute_result"
    }
   ],
   "source": [
    "np.linspace(0, 10, num=5, endpoint=False)"
   ]
  },
  {
   "cell_type": "code",
   "execution_count": 53,
   "id": "a9c93f3a-23b5-4ce6-8d5c-a37fd05c11fb",
   "metadata": {},
   "outputs": [
    {
     "data": {
      "text/plain": [
       "(array([ 0. ,  2.5,  5. ,  7.5, 10. ]), np.float64(2.5))"
      ]
     },
     "execution_count": 53,
     "metadata": {},
     "output_type": "execute_result"
    }
   ],
   "source": [
    "np.linspace(0, 10, num=5, endpoint=True, retstep=True)"
   ]
  },
  {
   "cell_type": "code",
   "execution_count": 58,
   "id": "c76d92a8-ef10-413a-be2a-e0f4989e3d3f",
   "metadata": {},
   "outputs": [
    {
     "data": {
      "text/plain": [
       "array([[0.81753751, 0.26539535]])"
      ]
     },
     "execution_count": 58,
     "metadata": {},
     "output_type": "execute_result"
    }
   ],
   "source": [
    "# random number (uniform distribution) array of shape (1 , 2)\n",
    "np.random.rand(1,2)"
   ]
  },
  {
   "cell_type": "code",
   "execution_count": 59,
   "id": "0fd072f2-5099-4a27-b949-910da0eb3278",
   "metadata": {},
   "outputs": [
    {
     "data": {
      "text/plain": [
       "array([[[0.58913107, 0.30745572, 0.40147169],\n",
       "        [0.36321974, 0.77072728, 0.52937856]]])"
      ]
     },
     "execution_count": 59,
     "metadata": {},
     "output_type": "execute_result"
    }
   ],
   "source": [
    "np.random.rand(1,2,3)"
   ]
  },
  {
   "cell_type": "code",
   "execution_count": 60,
   "id": "bbd3e491-b847-4958-98b5-c02edd56671c",
   "metadata": {},
   "outputs": [
    {
     "name": "stdout",
     "output_type": "stream",
     "text": [
      "[[ 0.18281106  1.53737832 -1.63484956]\n",
      " [ 0.34358442 -1.43538547  0.47052418]]\n"
     ]
    }
   ],
   "source": [
    "# random number (standard normal distribution) array of shape (2, 3)\n",
    "print (np.random.randn(2, 3))\n"
   ]
  },
  {
   "cell_type": "code",
   "execution_count": 63,
   "id": "2a3f53d4-e7e8-421a-bd1a-63f17afeb01a",
   "metadata": {},
   "outputs": [
    {
     "data": {
      "text/plain": [
       "array([2, 8, 5, 8, 1, 2, 2, 7, 5, 7], dtype=int32)"
      ]
     },
     "execution_count": 63,
     "metadata": {},
     "output_type": "execute_result"
    }
   ],
   "source": [
    "# 10 random integers between 1 (inclusive) to 11 (exclusive)\n",
    "\n",
    "np.random.randint(1, 11, 10)"
   ]
  },
  {
   "cell_type": "code",
   "execution_count": 67,
   "id": "e6829850-7167-4680-8fb5-c02af80dd0dd",
   "metadata": {},
   "outputs": [
    {
     "data": {
      "text/plain": [
       "array([[43, 44,  0,  4],\n",
       "       [ 6, 48, 26, 23],\n",
       "       [46,  1, 49, 30],\n",
       "       [43, 12, 45, 39]], dtype=int32)"
      ]
     },
     "execution_count": 67,
     "metadata": {},
     "output_type": "execute_result"
    }
   ],
   "source": [
    "# 10 random integers upto 50 (exclusive). This makes the start value default to 0.\n",
    "# The size parameter dictates the return array shape\n",
    "\n",
    "np.random.randint(50, size=(4,4))"
   ]
  },
  {
   "cell_type": "code",
   "execution_count": null,
   "id": "f79d3357-399f-4032-8ac0-049c5adc45b9",
   "metadata": {},
   "outputs": [],
   "source": []
  }
 ],
 "metadata": {
  "kernelspec": {
   "display_name": "Python 3 (ipykernel)",
   "language": "python",
   "name": "python3"
  },
  "language_info": {
   "codemirror_mode": {
    "name": "ipython",
    "version": 3
   },
   "file_extension": ".py",
   "mimetype": "text/x-python",
   "name": "python",
   "nbconvert_exporter": "python",
   "pygments_lexer": "ipython3",
   "version": "3.12.6"
  }
 },
 "nbformat": 4,
 "nbformat_minor": 5
}
